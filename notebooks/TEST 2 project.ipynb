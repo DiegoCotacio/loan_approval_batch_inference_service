{
 "cells": [
  {
   "cell_type": "code",
   "execution_count": 19,
   "id": "712d70a7",
   "metadata": {},
   "outputs": [],
   "source": [
    "import numpy as np\n",
    "import pandas as pd\n",
    "from sklearn.compose import ColumnTransformer\n",
    "from sklearn.pipeline import Pipeline\n",
    "from sklearn.impute import SimpleImputer\n",
    "from sklearn.preprocessing import StandardScaler, OneHotEncoder, LabelEncoder\n",
    "from sklearn.feature_selection import SelectPercentile, chi2"
   ]
  },
  {
   "cell_type": "code",
   "execution_count": 20,
   "id": "f14e0a83",
   "metadata": {},
   "outputs": [],
   "source": [
    "test_path = 'C:/Users/diego/OneDrive/Escritorio/mlops_projects/mlops/churn_inference_service/artifacts/test.csv'\n",
    "train_path = 'C:/Users/diego/OneDrive/Escritorio/mlops_projects/mlops/churn_inference_service/artifacts/train.csv'"
   ]
  },
  {
   "cell_type": "code",
   "execution_count": 21,
   "id": "443be40c",
   "metadata": {},
   "outputs": [],
   "source": [
    "numerical_columns = ['monthlycharges','totalcharges','tenure']\n",
    "categorical_columns = [\n",
    "                'multiplelines','internetservice','onlinesecurity', 'onlinebackup','deviceprotection',\n",
    "                'techsupport','streamingtv','streamingmovies','contract','paymentmethod','gender','paperlessbilling',\n",
    "                'partner','dependents','phoneservice','seniorcitizen'\n",
    "                ]"
   ]
  },
  {
   "cell_type": "code",
   "execution_count": 22,
   "id": "4e89c5b1",
   "metadata": {},
   "outputs": [],
   "source": [
    "# Crear el pipeline numérico\n",
    "num_pipeline = Pipeline(\n",
    "    steps=[\n",
    "        (\"imputer\", SimpleImputer(strategy=\"median\")),\n",
    "        (\"scaler\", StandardScaler())\n",
    "    ]\n",
    ")\n",
    "\n",
    "# Crear el pipeline categórico\n",
    "cat_pipeline = Pipeline(\n",
    "    steps=[\n",
    "        (\"imputer\", SimpleImputer(strategy=\"most_frequent\")),\n",
    "        (\"one_hot_encoder\", OneHotEncoder()),\n",
    "        (\"scaler\", StandardScaler(with_mean=False))\n",
    "    ]\n",
    ")\n",
    "\n",
    "# Crear el preprocesador usando ColumnTransformer\n",
    "preprocessor = ColumnTransformer(\n",
    "    transformers=[\n",
    "        (\"num_pipeline\", num_pipeline, numerical_columns),\n",
    "        (\"cat_pipeline\", cat_pipeline, categorical_columns)\n",
    "    ]\n",
    ")"
   ]
  },
  {
   "cell_type": "code",
   "execution_count": 23,
   "id": "d9ea827f",
   "metadata": {},
   "outputs": [],
   "source": [
    "preprocessing_obj = preprocessor"
   ]
  },
  {
   "cell_type": "code",
   "execution_count": 24,
   "id": "1a608ecf",
   "metadata": {},
   "outputs": [
    {
     "data": {
      "text/html": [
       "<style>#sk-container-id-1 {color: black;}#sk-container-id-1 pre{padding: 0;}#sk-container-id-1 div.sk-toggleable {background-color: white;}#sk-container-id-1 label.sk-toggleable__label {cursor: pointer;display: block;width: 100%;margin-bottom: 0;padding: 0.3em;box-sizing: border-box;text-align: center;}#sk-container-id-1 label.sk-toggleable__label-arrow:before {content: \"▸\";float: left;margin-right: 0.25em;color: #696969;}#sk-container-id-1 label.sk-toggleable__label-arrow:hover:before {color: black;}#sk-container-id-1 div.sk-estimator:hover label.sk-toggleable__label-arrow:before {color: black;}#sk-container-id-1 div.sk-toggleable__content {max-height: 0;max-width: 0;overflow: hidden;text-align: left;background-color: #f0f8ff;}#sk-container-id-1 div.sk-toggleable__content pre {margin: 0.2em;color: black;border-radius: 0.25em;background-color: #f0f8ff;}#sk-container-id-1 input.sk-toggleable__control:checked~div.sk-toggleable__content {max-height: 200px;max-width: 100%;overflow: auto;}#sk-container-id-1 input.sk-toggleable__control:checked~label.sk-toggleable__label-arrow:before {content: \"▾\";}#sk-container-id-1 div.sk-estimator input.sk-toggleable__control:checked~label.sk-toggleable__label {background-color: #d4ebff;}#sk-container-id-1 div.sk-label input.sk-toggleable__control:checked~label.sk-toggleable__label {background-color: #d4ebff;}#sk-container-id-1 input.sk-hidden--visually {border: 0;clip: rect(1px 1px 1px 1px);clip: rect(1px, 1px, 1px, 1px);height: 1px;margin: -1px;overflow: hidden;padding: 0;position: absolute;width: 1px;}#sk-container-id-1 div.sk-estimator {font-family: monospace;background-color: #f0f8ff;border: 1px dotted black;border-radius: 0.25em;box-sizing: border-box;margin-bottom: 0.5em;}#sk-container-id-1 div.sk-estimator:hover {background-color: #d4ebff;}#sk-container-id-1 div.sk-parallel-item::after {content: \"\";width: 100%;border-bottom: 1px solid gray;flex-grow: 1;}#sk-container-id-1 div.sk-label:hover label.sk-toggleable__label {background-color: #d4ebff;}#sk-container-id-1 div.sk-serial::before {content: \"\";position: absolute;border-left: 1px solid gray;box-sizing: border-box;top: 0;bottom: 0;left: 50%;z-index: 0;}#sk-container-id-1 div.sk-serial {display: flex;flex-direction: column;align-items: center;background-color: white;padding-right: 0.2em;padding-left: 0.2em;position: relative;}#sk-container-id-1 div.sk-item {position: relative;z-index: 1;}#sk-container-id-1 div.sk-parallel {display: flex;align-items: stretch;justify-content: center;background-color: white;position: relative;}#sk-container-id-1 div.sk-item::before, #sk-container-id-1 div.sk-parallel-item::before {content: \"\";position: absolute;border-left: 1px solid gray;box-sizing: border-box;top: 0;bottom: 0;left: 50%;z-index: -1;}#sk-container-id-1 div.sk-parallel-item {display: flex;flex-direction: column;z-index: 1;position: relative;background-color: white;}#sk-container-id-1 div.sk-parallel-item:first-child::after {align-self: flex-end;width: 50%;}#sk-container-id-1 div.sk-parallel-item:last-child::after {align-self: flex-start;width: 50%;}#sk-container-id-1 div.sk-parallel-item:only-child::after {width: 0;}#sk-container-id-1 div.sk-dashed-wrapped {border: 1px dashed gray;margin: 0 0.4em 0.5em 0.4em;box-sizing: border-box;padding-bottom: 0.4em;background-color: white;}#sk-container-id-1 div.sk-label label {font-family: monospace;font-weight: bold;display: inline-block;line-height: 1.2em;}#sk-container-id-1 div.sk-label-container {text-align: center;}#sk-container-id-1 div.sk-container {/* jupyter's `normalize.less` sets `[hidden] { display: none; }` but bootstrap.min.css set `[hidden] { display: none !important; }` so we also need the `!important` here to be able to override the default hidden behavior on the sphinx rendered scikit-learn.org. See: https://github.com/scikit-learn/scikit-learn/issues/21755 */display: inline-block !important;position: relative;}#sk-container-id-1 div.sk-text-repr-fallback {display: none;}</style><div id=\"sk-container-id-1\" class=\"sk-top-container\"><div class=\"sk-text-repr-fallback\"><pre>ColumnTransformer(transformers=[(&#x27;num_pipeline&#x27;,\n",
       "                                 Pipeline(steps=[(&#x27;imputer&#x27;,\n",
       "                                                  SimpleImputer(strategy=&#x27;median&#x27;)),\n",
       "                                                 (&#x27;scaler&#x27;, StandardScaler())]),\n",
       "                                 [&#x27;monthlycharges&#x27;, &#x27;totalcharges&#x27;, &#x27;tenure&#x27;]),\n",
       "                                (&#x27;cat_pipeline&#x27;,\n",
       "                                 Pipeline(steps=[(&#x27;imputer&#x27;,\n",
       "                                                  SimpleImputer(strategy=&#x27;most_frequent&#x27;)),\n",
       "                                                 (&#x27;one_hot_encoder&#x27;,\n",
       "                                                  OneHotEncoder()),\n",
       "                                                 (&#x27;scaler&#x27;,\n",
       "                                                  StandardScaler(with_mean=False))]),\n",
       "                                 [&#x27;multiplelines&#x27;, &#x27;internetservice&#x27;,\n",
       "                                  &#x27;onlinesecurity&#x27;, &#x27;onlinebackup&#x27;,\n",
       "                                  &#x27;deviceprotection&#x27;, &#x27;techsupport&#x27;,\n",
       "                                  &#x27;streamingtv&#x27;, &#x27;streamingmovies&#x27;, &#x27;contract&#x27;,\n",
       "                                  &#x27;paymentmethod&#x27;, &#x27;gender&#x27;, &#x27;paperlessbilling&#x27;,\n",
       "                                  &#x27;partner&#x27;, &#x27;dependents&#x27;, &#x27;phoneservice&#x27;,\n",
       "                                  &#x27;seniorcitizen&#x27;])])</pre><b>In a Jupyter environment, please rerun this cell to show the HTML representation or trust the notebook. <br />On GitHub, the HTML representation is unable to render, please try loading this page with nbviewer.org.</b></div><div class=\"sk-container\" hidden><div class=\"sk-item sk-dashed-wrapped\"><div class=\"sk-label-container\"><div class=\"sk-label sk-toggleable\"><input class=\"sk-toggleable__control sk-hidden--visually\" id=\"sk-estimator-id-1\" type=\"checkbox\" ><label for=\"sk-estimator-id-1\" class=\"sk-toggleable__label sk-toggleable__label-arrow\">ColumnTransformer</label><div class=\"sk-toggleable__content\"><pre>ColumnTransformer(transformers=[(&#x27;num_pipeline&#x27;,\n",
       "                                 Pipeline(steps=[(&#x27;imputer&#x27;,\n",
       "                                                  SimpleImputer(strategy=&#x27;median&#x27;)),\n",
       "                                                 (&#x27;scaler&#x27;, StandardScaler())]),\n",
       "                                 [&#x27;monthlycharges&#x27;, &#x27;totalcharges&#x27;, &#x27;tenure&#x27;]),\n",
       "                                (&#x27;cat_pipeline&#x27;,\n",
       "                                 Pipeline(steps=[(&#x27;imputer&#x27;,\n",
       "                                                  SimpleImputer(strategy=&#x27;most_frequent&#x27;)),\n",
       "                                                 (&#x27;one_hot_encoder&#x27;,\n",
       "                                                  OneHotEncoder()),\n",
       "                                                 (&#x27;scaler&#x27;,\n",
       "                                                  StandardScaler(with_mean=False))]),\n",
       "                                 [&#x27;multiplelines&#x27;, &#x27;internetservice&#x27;,\n",
       "                                  &#x27;onlinesecurity&#x27;, &#x27;onlinebackup&#x27;,\n",
       "                                  &#x27;deviceprotection&#x27;, &#x27;techsupport&#x27;,\n",
       "                                  &#x27;streamingtv&#x27;, &#x27;streamingmovies&#x27;, &#x27;contract&#x27;,\n",
       "                                  &#x27;paymentmethod&#x27;, &#x27;gender&#x27;, &#x27;paperlessbilling&#x27;,\n",
       "                                  &#x27;partner&#x27;, &#x27;dependents&#x27;, &#x27;phoneservice&#x27;,\n",
       "                                  &#x27;seniorcitizen&#x27;])])</pre></div></div></div><div class=\"sk-parallel\"><div class=\"sk-parallel-item\"><div class=\"sk-item\"><div class=\"sk-label-container\"><div class=\"sk-label sk-toggleable\"><input class=\"sk-toggleable__control sk-hidden--visually\" id=\"sk-estimator-id-2\" type=\"checkbox\" ><label for=\"sk-estimator-id-2\" class=\"sk-toggleable__label sk-toggleable__label-arrow\">num_pipeline</label><div class=\"sk-toggleable__content\"><pre>[&#x27;monthlycharges&#x27;, &#x27;totalcharges&#x27;, &#x27;tenure&#x27;]</pre></div></div></div><div class=\"sk-serial\"><div class=\"sk-item\"><div class=\"sk-serial\"><div class=\"sk-item\"><div class=\"sk-estimator sk-toggleable\"><input class=\"sk-toggleable__control sk-hidden--visually\" id=\"sk-estimator-id-3\" type=\"checkbox\" ><label for=\"sk-estimator-id-3\" class=\"sk-toggleable__label sk-toggleable__label-arrow\">SimpleImputer</label><div class=\"sk-toggleable__content\"><pre>SimpleImputer(strategy=&#x27;median&#x27;)</pre></div></div></div><div class=\"sk-item\"><div class=\"sk-estimator sk-toggleable\"><input class=\"sk-toggleable__control sk-hidden--visually\" id=\"sk-estimator-id-4\" type=\"checkbox\" ><label for=\"sk-estimator-id-4\" class=\"sk-toggleable__label sk-toggleable__label-arrow\">StandardScaler</label><div class=\"sk-toggleable__content\"><pre>StandardScaler()</pre></div></div></div></div></div></div></div></div><div class=\"sk-parallel-item\"><div class=\"sk-item\"><div class=\"sk-label-container\"><div class=\"sk-label sk-toggleable\"><input class=\"sk-toggleable__control sk-hidden--visually\" id=\"sk-estimator-id-5\" type=\"checkbox\" ><label for=\"sk-estimator-id-5\" class=\"sk-toggleable__label sk-toggleable__label-arrow\">cat_pipeline</label><div class=\"sk-toggleable__content\"><pre>[&#x27;multiplelines&#x27;, &#x27;internetservice&#x27;, &#x27;onlinesecurity&#x27;, &#x27;onlinebackup&#x27;, &#x27;deviceprotection&#x27;, &#x27;techsupport&#x27;, &#x27;streamingtv&#x27;, &#x27;streamingmovies&#x27;, &#x27;contract&#x27;, &#x27;paymentmethod&#x27;, &#x27;gender&#x27;, &#x27;paperlessbilling&#x27;, &#x27;partner&#x27;, &#x27;dependents&#x27;, &#x27;phoneservice&#x27;, &#x27;seniorcitizen&#x27;]</pre></div></div></div><div class=\"sk-serial\"><div class=\"sk-item\"><div class=\"sk-serial\"><div class=\"sk-item\"><div class=\"sk-estimator sk-toggleable\"><input class=\"sk-toggleable__control sk-hidden--visually\" id=\"sk-estimator-id-6\" type=\"checkbox\" ><label for=\"sk-estimator-id-6\" class=\"sk-toggleable__label sk-toggleable__label-arrow\">SimpleImputer</label><div class=\"sk-toggleable__content\"><pre>SimpleImputer(strategy=&#x27;most_frequent&#x27;)</pre></div></div></div><div class=\"sk-item\"><div class=\"sk-estimator sk-toggleable\"><input class=\"sk-toggleable__control sk-hidden--visually\" id=\"sk-estimator-id-7\" type=\"checkbox\" ><label for=\"sk-estimator-id-7\" class=\"sk-toggleable__label sk-toggleable__label-arrow\">OneHotEncoder</label><div class=\"sk-toggleable__content\"><pre>OneHotEncoder()</pre></div></div></div><div class=\"sk-item\"><div class=\"sk-estimator sk-toggleable\"><input class=\"sk-toggleable__control sk-hidden--visually\" id=\"sk-estimator-id-8\" type=\"checkbox\" ><label for=\"sk-estimator-id-8\" class=\"sk-toggleable__label sk-toggleable__label-arrow\">StandardScaler</label><div class=\"sk-toggleable__content\"><pre>StandardScaler(with_mean=False)</pre></div></div></div></div></div></div></div></div></div></div></div></div>"
      ],
      "text/plain": [
       "ColumnTransformer(transformers=[('num_pipeline',\n",
       "                                 Pipeline(steps=[('imputer',\n",
       "                                                  SimpleImputer(strategy='median')),\n",
       "                                                 ('scaler', StandardScaler())]),\n",
       "                                 ['monthlycharges', 'totalcharges', 'tenure']),\n",
       "                                ('cat_pipeline',\n",
       "                                 Pipeline(steps=[('imputer',\n",
       "                                                  SimpleImputer(strategy='most_frequent')),\n",
       "                                                 ('one_hot_encoder',\n",
       "                                                  OneHotEncoder()),\n",
       "                                                 ('scaler',\n",
       "                                                  StandardScaler(with_mean=False))]),\n",
       "                                 ['multiplelines', 'internetservice',\n",
       "                                  'onlinesecurity', 'onlinebackup',\n",
       "                                  'deviceprotection', 'techsupport',\n",
       "                                  'streamingtv', 'streamingmovies', 'contract',\n",
       "                                  'paymentmethod', 'gender', 'paperlessbilling',\n",
       "                                  'partner', 'dependents', 'phoneservice',\n",
       "                                  'seniorcitizen'])])"
      ]
     },
     "execution_count": 24,
     "metadata": {},
     "output_type": "execute_result"
    }
   ],
   "source": [
    "preprocessing_obj"
   ]
  },
  {
   "cell_type": "code",
   "execution_count": null,
   "id": "cc49523c",
   "metadata": {},
   "outputs": [],
   "source": []
  },
  {
   "cell_type": "code",
   "execution_count": null,
   "id": "029ae920",
   "metadata": {},
   "outputs": [],
   "source": []
  },
  {
   "cell_type": "code",
   "execution_count": 25,
   "id": "1f69ab0e",
   "metadata": {},
   "outputs": [],
   "source": [
    "train_df = pd.read_csv(train_path)\n",
    "test_df = pd.read_csv(test_path)"
   ]
  },
  {
   "cell_type": "code",
   "execution_count": 26,
   "id": "d78407e2",
   "metadata": {},
   "outputs": [
    {
     "data": {
      "text/html": [
       "<div>\n",
       "<style scoped>\n",
       "    .dataframe tbody tr th:only-of-type {\n",
       "        vertical-align: middle;\n",
       "    }\n",
       "\n",
       "    .dataframe tbody tr th {\n",
       "        vertical-align: top;\n",
       "    }\n",
       "\n",
       "    .dataframe thead th {\n",
       "        text-align: right;\n",
       "    }\n",
       "</style>\n",
       "<table border=\"1\" class=\"dataframe\">\n",
       "  <thead>\n",
       "    <tr style=\"text-align: right;\">\n",
       "      <th></th>\n",
       "      <th>clienteidentifier</th>\n",
       "      <th>multiplelines</th>\n",
       "      <th>internetservice</th>\n",
       "      <th>onlinesecurity</th>\n",
       "      <th>onlinebackup</th>\n",
       "      <th>deviceprotection</th>\n",
       "      <th>techsupport</th>\n",
       "      <th>streamingtv</th>\n",
       "      <th>streamingmovies</th>\n",
       "      <th>contract</th>\n",
       "      <th>...</th>\n",
       "      <th>gender</th>\n",
       "      <th>paperlessbilling</th>\n",
       "      <th>partner</th>\n",
       "      <th>dependents</th>\n",
       "      <th>phoneservice</th>\n",
       "      <th>seniorcitizen</th>\n",
       "      <th>monthlycharges</th>\n",
       "      <th>totalcharges</th>\n",
       "      <th>tenure</th>\n",
       "      <th>churn</th>\n",
       "    </tr>\n",
       "  </thead>\n",
       "  <tbody>\n",
       "    <tr>\n",
       "      <th>0</th>\n",
       "      <td>4223-BKEOR</td>\n",
       "      <td>No</td>\n",
       "      <td>DSL</td>\n",
       "      <td>Yes</td>\n",
       "      <td>No</td>\n",
       "      <td>Yes</td>\n",
       "      <td>No</td>\n",
       "      <td>No</td>\n",
       "      <td>Yes</td>\n",
       "      <td>One year</td>\n",
       "      <td>...</td>\n",
       "      <td>Female</td>\n",
       "      <td>No</td>\n",
       "      <td>No</td>\n",
       "      <td>Yes</td>\n",
       "      <td>Yes</td>\n",
       "      <td>N</td>\n",
       "      <td>64.85</td>\n",
       "      <td>1336.80</td>\n",
       "      <td>21.0</td>\n",
       "      <td>0</td>\n",
       "    </tr>\n",
       "    <tr>\n",
       "      <th>1</th>\n",
       "      <td>6035-RIIOM</td>\n",
       "      <td>Yes</td>\n",
       "      <td>Fiber optic</td>\n",
       "      <td>No</td>\n",
       "      <td>Yes</td>\n",
       "      <td>No</td>\n",
       "      <td>No</td>\n",
       "      <td>Yes</td>\n",
       "      <td>Yes</td>\n",
       "      <td>Two year</td>\n",
       "      <td>...</td>\n",
       "      <td>Female</td>\n",
       "      <td>Yes</td>\n",
       "      <td>No</td>\n",
       "      <td>No</td>\n",
       "      <td>Yes</td>\n",
       "      <td>N</td>\n",
       "      <td>97.20</td>\n",
       "      <td>5129.45</td>\n",
       "      <td>54.0</td>\n",
       "      <td>0</td>\n",
       "    </tr>\n",
       "    <tr>\n",
       "      <th>2</th>\n",
       "      <td>3797-VTIDR</td>\n",
       "      <td>No phone service</td>\n",
       "      <td>DSL</td>\n",
       "      <td>No</td>\n",
       "      <td>No</td>\n",
       "      <td>No</td>\n",
       "      <td>No</td>\n",
       "      <td>No</td>\n",
       "      <td>No</td>\n",
       "      <td>Month-to-month</td>\n",
       "      <td>...</td>\n",
       "      <td>Male</td>\n",
       "      <td>Yes</td>\n",
       "      <td>Yes</td>\n",
       "      <td>No</td>\n",
       "      <td>No</td>\n",
       "      <td>N</td>\n",
       "      <td>23.45</td>\n",
       "      <td>23.45</td>\n",
       "      <td>1.0</td>\n",
       "      <td>1</td>\n",
       "    </tr>\n",
       "    <tr>\n",
       "      <th>3</th>\n",
       "      <td>2568-BRGYX</td>\n",
       "      <td>No</td>\n",
       "      <td>Fiber optic</td>\n",
       "      <td>No</td>\n",
       "      <td>No</td>\n",
       "      <td>No</td>\n",
       "      <td>No</td>\n",
       "      <td>No</td>\n",
       "      <td>No</td>\n",
       "      <td>Month-to-month</td>\n",
       "      <td>...</td>\n",
       "      <td>Male</td>\n",
       "      <td>Yes</td>\n",
       "      <td>No</td>\n",
       "      <td>No</td>\n",
       "      <td>Yes</td>\n",
       "      <td>N</td>\n",
       "      <td>70.20</td>\n",
       "      <td>237.95</td>\n",
       "      <td>4.0</td>\n",
       "      <td>1</td>\n",
       "    </tr>\n",
       "    <tr>\n",
       "      <th>4</th>\n",
       "      <td>2775-SEFEE</td>\n",
       "      <td>Yes</td>\n",
       "      <td>DSL</td>\n",
       "      <td>Yes</td>\n",
       "      <td>Yes</td>\n",
       "      <td>No</td>\n",
       "      <td>Yes</td>\n",
       "      <td>No</td>\n",
       "      <td>No</td>\n",
       "      <td>Two year</td>\n",
       "      <td>...</td>\n",
       "      <td>Male</td>\n",
       "      <td>Yes</td>\n",
       "      <td>No</td>\n",
       "      <td>Yes</td>\n",
       "      <td>Yes</td>\n",
       "      <td>N</td>\n",
       "      <td>61.90</td>\n",
       "      <td>NaN</td>\n",
       "      <td>0.0</td>\n",
       "      <td>0</td>\n",
       "    </tr>\n",
       "  </tbody>\n",
       "</table>\n",
       "<p>5 rows × 21 columns</p>\n",
       "</div>"
      ],
      "text/plain": [
       "  clienteidentifier     multiplelines internetservice onlinesecurity  \\\n",
       "0        4223-BKEOR                No             DSL            Yes   \n",
       "1        6035-RIIOM               Yes     Fiber optic             No   \n",
       "2        3797-VTIDR  No phone service             DSL             No   \n",
       "3        2568-BRGYX                No     Fiber optic             No   \n",
       "4        2775-SEFEE               Yes             DSL            Yes   \n",
       "\n",
       "  onlinebackup deviceprotection techsupport streamingtv streamingmovies  \\\n",
       "0           No              Yes          No          No             Yes   \n",
       "1          Yes               No          No         Yes             Yes   \n",
       "2           No               No          No          No              No   \n",
       "3           No               No          No          No              No   \n",
       "4          Yes               No         Yes          No              No   \n",
       "\n",
       "         contract  ...  gender paperlessbilling partner dependents  \\\n",
       "0        One year  ...  Female               No      No        Yes   \n",
       "1        Two year  ...  Female              Yes      No         No   \n",
       "2  Month-to-month  ...    Male              Yes     Yes         No   \n",
       "3  Month-to-month  ...    Male              Yes      No         No   \n",
       "4        Two year  ...    Male              Yes      No        Yes   \n",
       "\n",
       "  phoneservice seniorcitizen monthlycharges  totalcharges  tenure  churn  \n",
       "0          Yes             N          64.85       1336.80    21.0      0  \n",
       "1          Yes             N          97.20       5129.45    54.0      0  \n",
       "2           No             N          23.45         23.45     1.0      1  \n",
       "3          Yes             N          70.20        237.95     4.0      1  \n",
       "4          Yes             N          61.90           NaN     0.0      0  \n",
       "\n",
       "[5 rows x 21 columns]"
      ]
     },
     "execution_count": 26,
     "metadata": {},
     "output_type": "execute_result"
    }
   ],
   "source": [
    "train_df.head(5)"
   ]
  },
  {
   "cell_type": "code",
   "execution_count": 27,
   "id": "14f5ef4d",
   "metadata": {},
   "outputs": [
    {
     "name": "stdout",
     "output_type": "stream",
     "text": [
      "<class 'pandas.core.frame.DataFrame'>\n",
      "RangeIndex: 5634 entries, 0 to 5633\n",
      "Data columns (total 21 columns):\n",
      " #   Column             Non-Null Count  Dtype  \n",
      "---  ------             --------------  -----  \n",
      " 0   clienteidentifier  5634 non-null   object \n",
      " 1   multiplelines      5634 non-null   object \n",
      " 2   internetservice    5634 non-null   object \n",
      " 3   onlinesecurity     5634 non-null   object \n",
      " 4   onlinebackup       5634 non-null   object \n",
      " 5   deviceprotection   5634 non-null   object \n",
      " 6   techsupport        5634 non-null   object \n",
      " 7   streamingtv        5634 non-null   object \n",
      " 8   streamingmovies    5634 non-null   object \n",
      " 9   contract           5634 non-null   object \n",
      " 10  paymentmethod      5634 non-null   object \n",
      " 11  gender             5634 non-null   object \n",
      " 12  paperlessbilling   5634 non-null   object \n",
      " 13  partner            5634 non-null   object \n",
      " 14  dependents         5634 non-null   object \n",
      " 15  phoneservice       5634 non-null   object \n",
      " 16  seniorcitizen      5634 non-null   object \n",
      " 17  monthlycharges     5634 non-null   float64\n",
      " 18  totalcharges       5624 non-null   float64\n",
      " 19  tenure             5634 non-null   float64\n",
      " 20  churn              5634 non-null   int64  \n",
      "dtypes: float64(3), int64(1), object(17)\n",
      "memory usage: 924.5+ KB\n"
     ]
    }
   ],
   "source": [
    "train_df.info()"
   ]
  },
  {
   "cell_type": "markdown",
   "id": "f64df378",
   "metadata": {},
   "source": [
    "### Instancia objeto preprocesador"
   ]
  },
  {
   "cell_type": "markdown",
   "id": "c7e91feb",
   "metadata": {},
   "source": [
    "### Separar datasets"
   ]
  },
  {
   "cell_type": "code",
   "execution_count": 28,
   "id": "b100de25",
   "metadata": {},
   "outputs": [],
   "source": [
    "target_columns_name = \"churn\"\n",
    "\n",
    "# X and y in Train dataset\n",
    "input_feature_train_df = train_df.drop(columns=[target_columns_name, \"clienteidentifier\"], axis = 1)\n",
    "target_feature_train_df = train_df[target_columns_name]"
   ]
  },
  {
   "cell_type": "code",
   "execution_count": 29,
   "id": "3c6833cb",
   "metadata": {},
   "outputs": [],
   "source": [
    "input_feature_test_df = test_df.drop(columns=[target_columns_name, \"clienteidentifier\"], axis = 1)\n",
    "target_feature_test_df = test_df[target_columns_name]"
   ]
  },
  {
   "cell_type": "code",
   "execution_count": 30,
   "id": "35015ced",
   "metadata": {},
   "outputs": [
    {
     "name": "stdout",
     "output_type": "stream",
     "text": [
      "<class 'pandas.core.frame.DataFrame'>\n",
      "RangeIndex: 1409 entries, 0 to 1408\n",
      "Data columns (total 19 columns):\n",
      " #   Column            Non-Null Count  Dtype  \n",
      "---  ------            --------------  -----  \n",
      " 0   multiplelines     1409 non-null   object \n",
      " 1   internetservice   1409 non-null   object \n",
      " 2   onlinesecurity    1409 non-null   object \n",
      " 3   onlinebackup      1409 non-null   object \n",
      " 4   deviceprotection  1409 non-null   object \n",
      " 5   techsupport       1409 non-null   object \n",
      " 6   streamingtv       1409 non-null   object \n",
      " 7   streamingmovies   1409 non-null   object \n",
      " 8   contract          1409 non-null   object \n",
      " 9   paymentmethod     1409 non-null   object \n",
      " 10  gender            1409 non-null   object \n",
      " 11  paperlessbilling  1409 non-null   object \n",
      " 12  partner           1409 non-null   object \n",
      " 13  dependents        1409 non-null   object \n",
      " 14  phoneservice      1409 non-null   object \n",
      " 15  seniorcitizen     1409 non-null   object \n",
      " 16  monthlycharges    1409 non-null   float64\n",
      " 17  totalcharges      1408 non-null   float64\n",
      " 18  tenure            1409 non-null   float64\n",
      "dtypes: float64(3), object(16)\n",
      "memory usage: 209.3+ KB\n"
     ]
    }
   ],
   "source": [
    "input_feature_test_df.info()"
   ]
  },
  {
   "cell_type": "code",
   "execution_count": 11,
   "id": "d22a7403",
   "metadata": {},
   "outputs": [
    {
     "name": "stdout",
     "output_type": "stream",
     "text": [
      "<class 'pandas.core.series.Series'>\n",
      "RangeIndex: 1409 entries, 0 to 1408\n",
      "Series name: churn\n",
      "Non-Null Count  Dtype\n",
      "--------------  -----\n",
      "1409 non-null   int64\n",
      "dtypes: int64(1)\n",
      "memory usage: 11.1 KB\n"
     ]
    }
   ],
   "source": [
    "target_feature_test_df.info()"
   ]
  },
  {
   "cell_type": "markdown",
   "id": "b70484a9",
   "metadata": {},
   "source": [
    "### Inicio de preprocesamiento"
   ]
  },
  {
   "cell_type": "code",
   "execution_count": 31,
   "id": "b03eed54",
   "metadata": {},
   "outputs": [],
   "source": [
    "input_feature_train_arr = preprocessing_obj.fit_transform(input_feature_train_df)"
   ]
  },
  {
   "cell_type": "code",
   "execution_count": 32,
   "id": "32b1e52c",
   "metadata": {},
   "outputs": [],
   "source": [
    "input_feature_test_arr = preprocessing_obj.transform(input_feature_test_df)"
   ]
  },
  {
   "cell_type": "code",
   "execution_count": 33,
   "id": "02b6e662",
   "metadata": {},
   "outputs": [
    {
     "data": {
      "text/plain": [
       "array([[-1.33162874, -1.00156871, -1.28460467, ...,  0.        ,\n",
       "         2.72216227,  0.        ],\n",
       "       [-1.31667194, -0.57187176,  0.35323794, ...,  3.36379851,\n",
       "         2.72216227,  0.        ],\n",
       "       [-1.51277218, -0.556283  ,  0.80364466, ...,  3.36379851,\n",
       "         2.72216227,  0.        ],\n",
       "       ...,\n",
       "       [-1.49449165, -0.86670936, -0.62946762, ...,  3.36379851,\n",
       "         2.72216227,  0.        ],\n",
       "       [-0.69513389,  0.29652162,  1.49972776, ...,  0.        ,\n",
       "         2.72216227,  0.        ],\n",
       "       [-1.11392424, -0.99867208, -1.28460467, ...,  0.        ,\n",
       "         2.72216227,  0.        ]])"
      ]
     },
     "execution_count": 33,
     "metadata": {},
     "output_type": "execute_result"
    }
   ],
   "source": [
    "input_feature_test_arr"
   ]
  },
  {
   "cell_type": "markdown",
   "id": "bc3dc4aa",
   "metadata": {},
   "source": [
    "### Concatenación"
   ]
  },
  {
   "cell_type": "code",
   "execution_count": 34,
   "id": "0b79c997",
   "metadata": {},
   "outputs": [],
   "source": [
    "train_arr = np.c_[input_feature_train_arr, np.array(target_feature_train_df)]"
   ]
  },
  {
   "cell_type": "code",
   "execution_count": 35,
   "id": "2e83d1d9",
   "metadata": {},
   "outputs": [],
   "source": [
    "test_arr = np.c_[input_feature_test_arr, np.array(target_feature_test_df)]"
   ]
  },
  {
   "cell_type": "code",
   "execution_count": null,
   "id": "3b9d1af7",
   "metadata": {},
   "outputs": [],
   "source": []
  },
  {
   "cell_type": "code",
   "execution_count": null,
   "id": "6fcd5678",
   "metadata": {},
   "outputs": [],
   "source": []
  },
  {
   "cell_type": "code",
   "execution_count": null,
   "id": "bc3b156c",
   "metadata": {},
   "outputs": [],
   "source": []
  },
  {
   "cell_type": "code",
   "execution_count": null,
   "id": "85becf3a",
   "metadata": {},
   "outputs": [],
   "source": []
  },
  {
   "cell_type": "code",
   "execution_count": null,
   "id": "0aac7194",
   "metadata": {},
   "outputs": [],
   "source": []
  },
  {
   "cell_type": "code",
   "execution_count": null,
   "id": "b2c49e80",
   "metadata": {},
   "outputs": [],
   "source": []
  }
 ],
 "metadata": {
  "kernelspec": {
   "display_name": "Python 3 (ipykernel)",
   "language": "python",
   "name": "python3"
  },
  "language_info": {
   "codemirror_mode": {
    "name": "ipython",
    "version": 3
   },
   "file_extension": ".py",
   "mimetype": "text/x-python",
   "name": "python",
   "nbconvert_exporter": "python",
   "pygments_lexer": "ipython3",
   "version": "3.9.12"
  }
 },
 "nbformat": 4,
 "nbformat_minor": 5
}
